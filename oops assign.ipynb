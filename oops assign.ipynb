{
 "cells": [
  {
   "cell_type": "markdown",
   "id": "173c980e-8160-410c-b2b9-4227b28db114",
   "metadata": {},
   "source": [
    "OOPS ASSIGNMENT - 1"
   ]
  },
  {
   "cell_type": "markdown",
   "id": "7fc2d55f-96be-4c96-af0a-49713a55e093",
   "metadata": {},
   "source": [
    "Q1. Explain Class and Object with respect to Object-Oriented Programming. Give a suitable example."
   ]
  },
  {
   "cell_type": "code",
   "execution_count": 41,
   "id": "cbfdfb88-4b71-4004-9bb2-276564240350",
   "metadata": {},
   "outputs": [],
   "source": [
    "class bank:\n",
    "    def __init__ (self , acc_no , holder_name , balance):\n",
    "        \n",
    "        self.acc_no = acc_no\n",
    "        self.holder_name = holder_name\n",
    "        self.balance = balance\n",
    "  "
   ]
  },
  {
   "cell_type": "code",
   "execution_count": 42,
   "id": "6f23ce54-1d31-41eb-8baf-d9b4f88c50f5",
   "metadata": {},
   "outputs": [],
   "source": [
    "obj = bank(80808090, \"ossu\" , 20000)"
   ]
  },
  {
   "cell_type": "code",
   "execution_count": 43,
   "id": "a7d3175d-0157-442e-8e24-6fc4459a5fb3",
   "metadata": {},
   "outputs": [
    {
     "data": {
      "text/plain": [
       "80808090"
      ]
     },
     "execution_count": 43,
     "metadata": {},
     "output_type": "execute_result"
    }
   ],
   "source": [
    "obj.acc_no"
   ]
  },
  {
   "cell_type": "code",
   "execution_count": 44,
   "id": "926a5081-1776-4c34-9f16-09b5f9e12545",
   "metadata": {},
   "outputs": [
    {
     "data": {
      "text/plain": [
       "20000"
      ]
     },
     "execution_count": 44,
     "metadata": {},
     "output_type": "execute_result"
    }
   ],
   "source": [
    "obj.balance"
   ]
  },
  {
   "cell_type": "markdown",
   "id": "5cdb0894-0261-4158-a1c7-b6f3131ca406",
   "metadata": {},
   "source": [
    "Q2. Name the four pillars of OOPs."
   ]
  },
  {
   "cell_type": "markdown",
   "id": "51b877f3-eb25-4de8-9e80-4da9b0f10cee",
   "metadata": {},
   "source": [
    "Ans -"
   ]
  },
  {
   "cell_type": "markdown",
   "id": "91f50b67-6a7b-4015-91ab-2177029ef576",
   "metadata": {},
   "source": [
    "These four pillars are - (1)Inheritance, (2)Polymorphism, (3)Encapsulation and (4)Abstraction. "
   ]
  },
  {
   "cell_type": "markdown",
   "id": "493dcc3b-6fb9-4b87-9a54-aa9fd41a18a8",
   "metadata": {},
   "source": [
    "Q3. Explain why the __init__() function is used. Give a suitable example."
   ]
  },
  {
   "cell_type": "markdown",
   "id": "7bac7ffd-1018-4899-9e59-576116654fd1",
   "metadata": {},
   "source": [
    "Ans - "
   ]
  },
  {
   "cell_type": "markdown",
   "id": "70628945-bb5f-432a-8e61-9c97bf09fdd3",
   "metadata": {},
   "source": [
    "The __init__() function in Python is a special method (also known as a constructor) used in classes."
   ]
  },
  {
   "cell_type": "code",
   "execution_count": 66,
   "id": "7f76c228-f3e0-4189-a072-180d47bc440a",
   "metadata": {},
   "outputs": [],
   "source": [
    "class vehicle:\n",
    "    def __init__ (self,  power , rpm):\n",
    "        self.power = power\n",
    "        self.rpm = rpm\n",
    "  "
   ]
  },
  {
   "cell_type": "code",
   "execution_count": 67,
   "id": "b9bac13a-3a23-4178-903e-ff9b33f8e632",
   "metadata": {},
   "outputs": [],
   "source": [
    "veh1=vehicle(\"2500 cc\", 5000)"
   ]
  },
  {
   "cell_type": "code",
   "execution_count": 68,
   "id": "71a17421-844f-4de2-a50a-d3a6ff647e31",
   "metadata": {},
   "outputs": [],
   "source": [
    "veh2 = vehicle(\"390 cc\" , 2000)"
   ]
  },
  {
   "cell_type": "code",
   "execution_count": 73,
   "id": "1f7d2ff9-2861-44f2-b50a-c2dcbb3ee023",
   "metadata": {},
   "outputs": [
    {
     "data": {
      "text/plain": [
       "'2500 cc'"
      ]
     },
     "execution_count": 73,
     "metadata": {},
     "output_type": "execute_result"
    }
   ],
   "source": [
    "veh1.power"
   ]
  },
  {
   "cell_type": "code",
   "execution_count": 75,
   "id": "d2539939-7be1-4cfa-8fad-911315f5d715",
   "metadata": {},
   "outputs": [
    {
     "data": {
      "text/plain": [
       "2000"
      ]
     },
     "execution_count": 75,
     "metadata": {},
     "output_type": "execute_result"
    }
   ],
   "source": [
    "veh2.rpm"
   ]
  },
  {
   "cell_type": "markdown",
   "id": "6b90e31b-cf18-431b-b12f-76763e17fb14",
   "metadata": {},
   "source": [
    "Q4. Why self is used in OOPs?"
   ]
  },
  {
   "cell_type": "markdown",
   "id": "c241fca5-f7d4-4437-b3c3-a088911ff8b9",
   "metadata": {},
   "source": [
    "Ans-"
   ]
  },
  {
   "cell_type": "markdown",
   "id": "f1f29e36-e211-4f36-ac11-b2a90d19fc87",
   "metadata": {},
   "source": [
    "In object-oriented programming (OOP), the self keyword is used in Python to refer to the instance of the class. It is a convention and not a strict requirement, but it is widely followed to maintain clarity and consistency in Python code. When defining methods within a class, you need to include the self parameter as the first parameter in the method signature. This allows the method to access and manipulate the attributes and methods of the instance it belongs to."
   ]
  },
  {
   "cell_type": "markdown",
   "id": "d6619342-075b-4c0b-af46-098a74d69312",
   "metadata": {},
   "source": [
    "Q5. What is inheritance? Give an example for each type of inheritance."
   ]
  },
  {
   "cell_type": "markdown",
   "id": "326c4707-1c74-466d-a9d8-a50d849165e9",
   "metadata": {},
   "source": [
    "Ans - "
   ]
  },
  {
   "cell_type": "markdown",
   "id": "7057d9cb-73e3-4df7-9bcf-29df6b2b098c",
   "metadata": {},
   "source": [
    "that allows a class (subclass or derived class) to inherit properties (attributes and methods) from another class (superclass or base class)."
   ]
  },
  {
   "cell_type": "markdown",
   "id": "b22a40bf-bf12-4d60-ab73-493aa61cd8a6",
   "metadata": {},
   "source": [
    "Single inheritance - "
   ]
  },
  {
   "cell_type": "code",
   "execution_count": 77,
   "id": "403447a7-32a1-4af4-b2d3-d451b51c0f1e",
   "metadata": {},
   "outputs": [],
   "source": [
    "class animal:\n",
    "    def speak (self):\n",
    "        return \"unknown sound\"\n",
    "class cat(animal):\n",
    "    def speak(self):\n",
    "        return \"meow\""
   ]
  },
  {
   "cell_type": "code",
   "execution_count": 78,
   "id": "80745724-bd40-495b-8ea7-1ae33eb60704",
   "metadata": {},
   "outputs": [],
   "source": [
    "Cat = cat()"
   ]
  },
  {
   "cell_type": "code",
   "execution_count": 82,
   "id": "69b9aa4f-20b0-4a63-8a99-3988e0f0f3ac",
   "metadata": {},
   "outputs": [
    {
     "name": "stdout",
     "output_type": "stream",
     "text": [
      "meow\n"
     ]
    }
   ],
   "source": [
    "print(Cat.speak())"
   ]
  },
  {
   "cell_type": "markdown",
   "id": "0f411934-bcd5-4bbc-845c-288721f94f03",
   "metadata": {},
   "source": [
    "Multiple Inheritance"
   ]
  },
  {
   "cell_type": "code",
   "execution_count": 83,
   "id": "59d80bd4-31c6-41ba-8854-f2bc33b7d855",
   "metadata": {},
   "outputs": [],
   "source": [
    "class reptiles:\n",
    "    def crewl(self):\n",
    "        return \"crewls on the water\"\n",
    "class mammalian:\n",
    "    def walk(self):\n",
    "        return \"mammalian walk on the land\"\n",
    "class snake(reptiles , mammalian):\n",
    "    pass"
   ]
  },
  {
   "cell_type": "code",
   "execution_count": 84,
   "id": "eb58db36-8cae-47cf-bc63-51b457fac04e",
   "metadata": {},
   "outputs": [],
   "source": [
    "Snake = snake()"
   ]
  },
  {
   "cell_type": "code",
   "execution_count": null,
   "id": "f1f5e016-2ce3-4c3c-8f61-c74b0b276551",
   "metadata": {},
   "outputs": [],
   "source": [
    "prinnt"
   ]
  }
 ],
 "metadata": {
  "kernelspec": {
   "display_name": "Python 3 (ipykernel)",
   "language": "python",
   "name": "python3"
  },
  "language_info": {
   "codemirror_mode": {
    "name": "ipython",
    "version": 3
   },
   "file_extension": ".py",
   "mimetype": "text/x-python",
   "name": "python",
   "nbconvert_exporter": "python",
   "pygments_lexer": "ipython3",
   "version": "3.10.8"
  }
 },
 "nbformat": 4,
 "nbformat_minor": 5
}
